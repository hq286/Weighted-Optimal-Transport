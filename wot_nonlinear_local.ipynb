{
 "cells": [
  {
   "cell_type": "code",
   "execution_count": 3,
   "metadata": {},
   "outputs": [],
   "source": [
    "import os\n",
    "import csv\n",
    "from PIL import Image\n",
    "import numpy as np\n",
    "import numpy.linalg as la\n",
    "from scipy import linalg\n",
    "from scipy import spatial\n",
    "from scipy import signal\n",
    "import matplotlib.pyplot as plt\n",
    "from math import *\n",
    "import time\n",
    "\n",
    "%matplotlib inline"
   ]
  },
  {
   "cell_type": "markdown",
   "metadata": {},
   "source": [
    "$$\\phi(\\mathbf{x}) = \\mathbf{a}\\cdot\\mathbf{x} + \\frac{1}{2}\\mathbf{x}^TA\\mathbf{x} - a_5e^{-\\frac{1}{2}|x+\\mathbf{a}_m|^2}$$\n",
    "where $$\\mathbf{x} = (x_0,x_1),\\mathbf{a} = (a_0,a_1), A = \n",
    "                                \\begin{pmatrix}\n",
    "                                    1+a_2 & a_3\\\\\n",
    "                                    a_3 & 1+a_4\n",
    "                                \\end{pmatrix}, \\mathbf{a}_m = (a_6,a_7)$$"
   ]
  },
  {
   "cell_type": "markdown",
   "metadata": {},
   "source": [
    "$$g(\\mathbf{z}) = b_0 + \\mathbf{b}\\cdot\\mathbf{z} + \\frac{1}{2}\\mathbf{z}^TB\\mathbf{z} + b_6e^{-\\frac{1}{2}|\\mathbf{z}+\\mathbf{b}'|^2} + b_{9}e^{-\\frac{1}{2}|\\mathbf{z}+\\mathbf{b}''|^2}$$\n",
    "where\n",
    "$$\\mathbf{b} = (b_1,b_2), B=\\begin{pmatrix}\n",
    "                                b_3 & b_4\\\\\n",
    "                                b_4 & b_5\n",
    "                            \\end{pmatrix}, \\mathbf{b}' = (b_7,b_8), \\mathbf{b}'' = (b_{10},b_{11})$$"
   ]
  },
  {
   "cell_type": "markdown",
   "metadata": {},
   "source": [
    "$$\n",
    "T(\\mathbf{x}) = \\nabla\\phi(\\mathbf{x})=  \\begin{pmatrix} a_0 + (1+a_2) x_0 + a_3 x_1 + a_5(x_0+a_6) e^{-0.5((x_0+a_6)^2 + (x_1+a_7)^2)} \\\\ a_1 + (1+a_4) x_1 + a_3 x_0 + a_5 (x_1+a_7) e^{-0.5((x_0+a_6)^2 + (x_1+a_7)^2)} \\end{pmatrix}\\\\\n",
    " = T_0(x) + T_1(x)\n",
    "$$\n",
    "and  \n",
    "$$\n",
    "g(\\mathbf{z}) =b_0 + b_1 z_0 + b_2 z_1 + 0.5 b_3 z_0^2 + b_4 z_0z_1 + 0.5 b_5 z_1^2 + b_6 \\exp \\left( -\\frac{1}{2}((z_0+b_7)^2 + (z_1+b_8)^2) \\right) + b_{9} \\exp \\left( -\\frac{1}{2}((z_0+b_{10})^2 + (z_1+b_{11})^2) \\right) \\\\\n",
    " = g_0(z) + g_1(z) + g_2(z)\n",
    "$$"
   ]
  },
  {
   "cell_type": "code",
   "execution_count": 110,
   "metadata": {
    "code_folding": [
     2,
     7
    ]
   },
   "outputs": [
    {
     "data": {
      "text/plain": [
       "<matplotlib.image.AxesImage at 0x1c1b1a4128>"
      ]
     },
     "execution_count": 110,
     "metadata": {},
     "output_type": "execute_result"
    },
    {
     "data": {
      "image/png": "[encoded data removed]",
      "text/plain": [
       "<Figure size 432x288 with 1 Axes>"
      ]
     },
     "metadata": {
      "needs_background": "light"
     },
     "output_type": "display_data"
    },
    {
     "data": {
      "image/png": "[encoded data removed]",
      "text/plain": [
       "<Figure size 432x288 with 1 Axes>"
      ]
     },
     "metadata": {
      "needs_background": "light"
     },
     "output_type": "display_data"
    }
   ],
   "source": [
    "###x: Generate an image of 2D Gaussian kernel, with image size of 60x60 pixels###\n",
    "###y: Generate an image of 2D Gaussian kernel, with image size of 61x62 pixels###\n",
    "def gkern(kernlen, std):\n",
    "    \"\"\"Returns a 2D Gaussian kernel array.\"\"\"\n",
    "    gkern1d = signal.gaussian(kernlen, std=std).reshape(kernlen, 1)\n",
    "    gkern2d = np.outer(gkern1d, gkern1d)\n",
    "    return gkern2d\n",
    "def Gaussian_pixels(L1,W1,L2,W2,sizeG,std,nml,tr=3,sc=1):\n",
    "    x_0 = np.zeros((L1*W1,2))\n",
    "    for i in range(L1*W1):\n",
    "        x_0[i][0] = (i//W1)/L1\n",
    "        x_0[i][1] = (i%W1)/W1\n",
    "\n",
    "    # y_0 = x_0\n",
    "    \n",
    "    y_0 = np.zeros((L2*W2,2))\n",
    "    for i in range(L2*W2):\n",
    "        y_0[i][0] = (i//W2)/L2\n",
    "        y_0[i][1] = (i%W2)/W2\n",
    "\n",
    "    Gaussian_1 = gkern(sizeG,std)\n",
    "    Gaussian_2 = gkern(sizeG,sc*std)\n",
    "    \n",
    "    rec_x = np.zeros((L1,W1))\n",
    "    rec_y = np.zeros((L2,W2))\n",
    "    rec_x[2:sizeG+2,2:sizeG+2] = Gaussian_1\n",
    "    rec_y[2+tr:sizeG+2+tr,tr+2:sizeG+tr+2] = Gaussian_2\n",
    "\n",
    "    pixels_1 = rec_x.flatten()\n",
    "    n_pixels_1 = np.array([1.0/pixels_1.sum()*pixels_1])\n",
    "    pixels_2 = rec_y.flatten()\n",
    "    n_pixels_2 = np.array([1.0/pixels_2.sum()*pixels_2])\n",
    "\n",
    "    x = np.concatenate(((L1/nml)*x_0,n_pixels_1.T),axis=1)\n",
    "    y = np.concatenate(((L1/nml)*y_0,n_pixels_2.T),axis=1)\n",
    "    \n",
    "    return x,y,pixels_1,pixels_2\n",
    "x,y,pixels_1,pixels_2 = Gaussian_pixels(60,60,61,62,40,7,60,tr=2,sc=0.9)\n",
    "image_count = 0\n",
    "faceX = np.reshape(pixels_1,(60,60))\n",
    "image_count+=1\n",
    "plt.figure(image_count)\n",
    "plt.title('source pixel')\n",
    "plt.imshow(faceX,cmap=plt.cm.gray)\n",
    "# plt.show('hold')\n",
    "\n",
    "faceX = np.reshape(pixels_2,(61,62))\n",
    "image_count+=1\n",
    "plt.figure(image_count)\n",
    "plt.title('target pixel')\n",
    "plt.imshow(faceX,cmap=plt.cm.gray)\n",
    "# plt.show('hold')"
   ]
  },
  {
   "cell_type": "code",
   "execution_count": 92,
   "metadata": {
    "code_folding": [
     0,
     7
    ]
   },
   "outputs": [],
   "source": [
    "def cutoff(x):\n",
    "    ###drop pixels with intensity below a certain level; this case we drop pixels with intensity value 0\n",
    "    nx = []\n",
    "    for i in range(len(x)):\n",
    "        if x[i][2] != 0:\n",
    "            nx.append(x[i])\n",
    "    return np.array(nx)\n",
    "def LGH(x,y,a,b,returnGH=True,d=2):\n",
    "    da = len(a)\n",
    "    db = len(b)\n",
    "    Nx = len(x)\n",
    "    Ny = len(y)\n",
    "    \n",
    "    x0 = x[:,0]\n",
    "    x1 = x[:,1]\n",
    "    x0a6 = x0+a[6]\n",
    "    x1a7 = x1+a[7]\n",
    "    argexpT = (x0a6**2+x1a7**2)\n",
    "    expT = np.exp(-0.5*argexpT)\n",
    "    T = np.zeros((Nx,2))\n",
    "    T[:,0] = a[0] + (1+a[2])*x0+a[3]*x1+a[5]*x0a6*expT\n",
    "    T[:,1] = a[1] + a[3]*x0+(1+a[4])*x1+a[5]*x1a7*expT\n",
    "    T0 = T[:,0]\n",
    "    T1 = T[:,1]\n",
    "    y0 = y[:,0]\n",
    "    y1 = y[:,1]\n",
    "    g0y = b[0]+ b[1]*y0+b[2]*y1+0.5*b[3]*y0**2+b[4]*y0*y1+0.5*b[5]*y1**2\n",
    "    y0b7 = y0+b[7]\n",
    "    y1b8 = y1+b[8]\n",
    "    y0b10 = y0+b[10]\n",
    "    y1b11 = y1+b[11]\n",
    "    argexpy1 =  (y0b7**2+y1b8**2)\n",
    "    expy1 = np.exp(-0.5*argexpy1)\n",
    "    argexpy2 =  (y0b10**2+y1b11**2)\n",
    "    expy2 = np.exp(-0.5*argexpy2)\n",
    "    g1y = b[6]*expy1\n",
    "    g2y = b[9]*expy2\n",
    "    gy = g0y + g1y + g2y\n",
    "    g0T =b[0]+ b[1]*T0+b[2]*T1+0.5*b[3]*T0**2+b[4]*T0*T1+0.5*b[5]*T1**2\n",
    "    T0b7 = T0+b[7]\n",
    "    T1b8 = T1+b[8]\n",
    "    T0b10 = T0+b[10]\n",
    "    T1b11 = T1+b[11]\n",
    "    argexpT1 =  (T0b7**2+T1b8**2)\n",
    "    expT1 = np.exp(-0.5*argexpT1)\n",
    "    argexpT2 =  (T0b10**2+T1b11**2)\n",
    "    expT2 = np.exp(-0.5*argexpT2)\n",
    "    g1T = b[6]*expT1\n",
    "    g2T = b[9]*expT2\n",
    "    gT = g0T + g1T + g2T\n",
    "    \n",
    "    L = np.average(gT,weights=x[:,2]) - np.average(np.exp(gy),weights=y[:,2])\n",
    "    \n",
    "    if not returnGH:\n",
    "        return(L)\n",
    "    \n",
    "    else:\n",
    "        #first derivatives\n",
    "        gzT = np.zeros((Nx,2))\n",
    "        gzT[:,0] = b[1]+b[3]*T0+b[4]*T1\n",
    "        gzT[:,0] += -b[6]*T0b7*expT1\n",
    "        gzT[:,0] += -b[9]*T0b10*expT2\n",
    "        gzT[:,1] = b[2]+b[4]*T0+b[5]*T1\n",
    "        gzT[:,1] += -b[6]*T1b8*expT1\n",
    "        gzT[:,1] += -b[9]*T1b11*expT2\n",
    "        \n",
    "        daT = np.zeros((Nx,da,d))\n",
    "        daT[:,0,:] = np.array([1,0])\n",
    "        daT[:,1,:] = np.array([0,1])\n",
    "        daT[:,2,0] = x0\n",
    "        daT[:,3,0] = x1\n",
    "        daT[:,3,1] = x0\n",
    "        daT[:,4,1] = x1\n",
    "        \n",
    "        daT[:,5,0] = expT*x0a6\n",
    "        daT[:,5,1] = expT*x1a7\n",
    "        daT[:,6,0] = a[5]*expT*(1-x0a6**2)\n",
    "        daT[:,6,1] = -a[5]*expT*x0a6*x1a7\n",
    "        daT[:,7,0] = daT[:,6,1]\n",
    "        daT[:,7,1] = a[5]*expT*(1-x1a7**2)\n",
    "        \n",
    "        #gradient w.r.t. a\n",
    "        ngzT = np.einsum('i,ij->ij',x[:,2],gzT)\n",
    "        daL = np.einsum('ijk,ik->j',daT,ngzT)\n",
    "        \n",
    "        expgy = np.exp(gy)\n",
    "        nexpgy = np.exp(gy)*y[:,2]\n",
    "        dbgy = np.zeros((Ny,db))\n",
    "        dbgT = np.zeros((Nx,db))\n",
    "        dbgy[:,0] = np.ones(Ny)\n",
    "        dbgT[:,0] = np.ones(Nx)\n",
    "        dbgy[:,1] = y0\n",
    "        dbgT[:,1] = T0\n",
    "        dbgy[:,2] = y1\n",
    "        dbgT[:,2] = T1\n",
    "        dbgy[:,3] = 0.5*y0**2\n",
    "        dbgT[:,3] = 0.5*T0**2\n",
    "        dbgy[:,4] = y0*y1\n",
    "        dbgT[:,4] = T0*T1\n",
    "        dbgy[:,5] = 0.5*y1**2\n",
    "        dbgT[:,5] = 0.5*T1**2\n",
    "        \n",
    "        dbgy[:,6] = expy1\n",
    "        dbgT[:,6] = expT1\n",
    "        dbgy[:,7] = -b[6]*y0b7*expy1\n",
    "        dbgT[:,7] = -b[6]*T0b7*expT1\n",
    "        dbgy[:,8] = -b[6]*y1b8*expy1\n",
    "        dbgT[:,8] = -b[6]*T1b8*expT1\n",
    "        dbgy[:,9] = expy2\n",
    "        dbgT[:,9] = expT2\n",
    "        \n",
    "        dbgy[:,10] = -b[9]*y0b10*expy2\n",
    "        dbgT[:,10] = -b[9]*T0b10*expT2\n",
    "        dbgy[:,11] = -b[9]*y1b11*expy2\n",
    "        dbgT[:,11] = -b[9]*T1b11*expT2\n",
    "        \n",
    "        #gradient w.r.t. b\n",
    "        ndbgT = np.einsum('i,ij->ij',x[:,2],dbgT)\n",
    "        dbL = np.sum(ndbgT,axis=0) - np.einsum('ik,i->k',dbgy,nexpgy)\n",
    "        \n",
    "        #gradient\n",
    "        G = np.concatenate([daL,dbL],axis=0)\n",
    "        \n",
    "        #second derivatives\n",
    "        gzzT = np.zeros((Nx,d,d))\n",
    "        gzzT[:,0,0] = b[3] - b[6]*(1-T0b7**2)*expT1-b[9]*(1-T0b10**2)*expT2\n",
    "        gzzT[:,1,0] = b[4] + b[6]*T0b7*T1b8*expT1+b[9]*T0b10*T1b11*expT2\n",
    "        gzzT[:,0,1] = gzzT[:,1,0]\n",
    "        gzzT[:,1,1] = b[5] - b[6]*(1-T1b8**2)*expT1-b[9]*(1-T1b11**2)*expT2\n",
    "        \n",
    "        daaT = np.zeros((Nx,da,da,d))\n",
    "        \n",
    "        daaT[:,5,6,0] = expT*(1-x0a6**2)\n",
    "        daaT[:,5,6,1] = -expT*x0a6*x1a7\n",
    "        daaT[:,5,7,0] = daaT[:,5,6,1]\n",
    "        daaT[:,5,7,1] = expT*(1-x1a7**2)\n",
    "        daaT[:,6,6,0] = -a[5]*expT*x0a6*(3-x0a6**2)\n",
    "        daaT[:,6,6,1] = -a[5]*expT*x1a7*(1-x0a6**2)\n",
    "        daaT[:,6,7,0] = daaT[:,6,6,1]\n",
    "        daaT[:,6,7,1] = -a[5]*expT*(1-x1a7**2)*x0a6\n",
    "        daaT[:,7,7,0] = daaT[:,6,7,1]\n",
    "        daaT[:,7,7,1] = -a[5]*expT*x1a7*(3-x1a7**2)\n",
    "        \n",
    "        daaT[:,6,5,0] = daaT[:,5,6,0]\n",
    "        daaT[:,6,5,1] = daaT[:,5,6,1]\n",
    "        daaT[:,7,5,0] = daaT[:,5,7,0]\n",
    "        daaT[:,7,5,1] = daaT[:,5,7,1]\n",
    "        daaT[:,7,6,0] = daaT[:,6,7,0]\n",
    "        daaT[:,7,6,1] = daaT[:,6,7,1]\n",
    "   \n",
    "        ngzzT = np.einsum('i,ijk->ijk',x[:,2],gzzT)\n",
    "        daaL = np.einsum('ijkl,il->jk',daaT,ngzT) + np.einsum('ijl,ilm,ikm->jk',daT,ngzzT,daT)\n",
    "        \n",
    "        \n",
    "        \n",
    "        \n",
    "        dbzgT = np.zeros((Nx,db,d))\n",
    "        dbzgT[:,1,0]=np.ones(Nx)\n",
    "        dbzgT[:,2,1]=np.ones(Nx)\n",
    "        dbzgT[:,3,0]=T0\n",
    "        dbzgT[:,4,0]=T1\n",
    "        dbzgT[:,4,1]=T0\n",
    "        dbzgT[:,5,1]=T1\n",
    "        \n",
    "        dbzgT[:,6,0]=-T0b7*expT1\n",
    "        dbzgT[:,6,1]=-T1b8*expT1\n",
    "        dbzgT[:,7,0]=-b[6]*expT1*(1-T0b7**2)\n",
    "        dbzgT[:,7,1]=b[6]*T1b8*expT1*T0b7\n",
    "        dbzgT[:,8,0]=dbzgT[:,7,1]\n",
    "        dbzgT[:,8,1]=-b[6]*expT1*(1-T1b8**2)\n",
    "        dbzgT[:,9,0]=-T0b10*expT2\n",
    "        dbzgT[:,9,1]=-T1b11*expT2\n",
    "        dbzgT[:,10,0]=-b[9]*expT2*(1-T0b10**2)\n",
    "        dbzgT[:,10,1]=b[9]*T1b11*expT2*T0b10\n",
    "        dbzgT[:,11,0]=dbzgT[:,10,1]\n",
    "        dbzgT[:,11,1]=-b[9]*expT2*(1-T1b11**2)\n",
    "        \n",
    "        \n",
    "        \n",
    "        ndbzgT = np.einsum('i,ijk->ijk',x[:,2],dbzgT)\n",
    "        \n",
    "        # #Hessian w.r.t. ab\n",
    "        dabL = np.einsum('ikl,ijl->jk',ndbzgT,daT)\n",
    "        \n",
    "        \n",
    "        dbbgy = np.zeros((Ny,db,db))\n",
    "        dbbgT = np.zeros((Nx,db,db))\n",
    "        \n",
    "        dbbgy[:,6,7] = -y0b7*expy1\n",
    "        dbbgy[:,6,8] = -y1b8*expy1\n",
    "        dbbgy[:,7,7] = -b[6]*expy1*(1-y0b7**2)\n",
    "        dbbgy[:,7,8] = b[6]*y1b8*expy1*y0b7\n",
    "        dbbgy[:,8,8] = -b[6]*expy1*(1-y1b8**2)\n",
    "        dbbgy[:,9,10] = -y0b10*expy2\n",
    "        dbbgy[:,9,11] = -y0b10*expy2\n",
    "        dbbgy[:,10,10] = -b[9]*expy2*(1-y0b10**2)\n",
    "        dbbgy[:,10,11] = b[9]*y1b11*expy2*y0b10\n",
    "        dbbgy[:,11,11] =-b[9]*expy2*(1-y1b11**2)\n",
    "        \n",
    "        dbbgy[:,7,6] = dbbgy[:,6,7]\n",
    "        dbbgy[:,8,6] = dbbgy[:,6,8]\n",
    "        dbbgy[:,8,7] = dbbgy[:,7,8]\n",
    "        dbbgy[:,10,9] = dbbgy[:,9,10]\n",
    "        dbbgy[:,11,9] = dbbgy[:,9,11]\n",
    "        dbbgy[:,11,10] = dbbgy[:,10,11]\n",
    "        \n",
    "        \n",
    "        dbbgT[:,6,7] = -T0b7*expT1\n",
    "        dbbgT[:,6,8] = -T1b8*expT1\n",
    "        dbbgT[:,7,7] = -b[6]*expT1*(1-T0b7**2)\n",
    "        dbbgT[:,7,8] = b[6]*T1b8*expT1*T0b7\n",
    "        dbbgT[:,8,8] = -b[6]*expT1*(1-T1b8**2)\n",
    "        dbbgT[:,9,10] = -T0b10*expT2\n",
    "        dbbgT[:,9,11] = -T0b10*expT2\n",
    "        dbbgT[:,10,10] = -b[9]*expT2*(1-T0b10**2)\n",
    "        dbbgT[:,10,11] = b[9]*T1b11*expT2*T0b10\n",
    "        dbbgT[:,11,11] =-b[9]*expT2*(1-T1b11**2)\n",
    "        \n",
    "        dbbgT[:,7,6] = dbbgT[:,6,7]\n",
    "        dbbgT[:,8,6] = dbbgT[:,6,8]\n",
    "        dbbgT[:,8,7] = dbbgT[:,7,8]\n",
    "        dbbgT[:,10,9] = dbbgT[:,9,10]\n",
    "        dbbgT[:,11,9] = dbbgT[:,9,11]\n",
    "        dbbgT[:,11,10] = dbbgT[:,10,11]\n",
    "\n",
    "\n",
    "        dbgdbg = np.einsum('jn,jm->jnm',dbgy,dbgy)\n",
    "        ndbbgT = np.einsum('i,ijk->ijk',x[:,2],dbbgT)\n",
    "        \n",
    "        dbbL = np.sum(ndbbgT,axis=0) - np.einsum('jnm,j->nm',(dbbgy+dbgdbg),nexpgy)\n",
    "        \n",
    "        #Hessian\n",
    "        H = np.zeros((da+db,da+db))\n",
    "        H[:da,:da] = daaL\n",
    "        H[:da,da:] = dabL\n",
    "        H[da:,:da] = dabL.T\n",
    "        H[da:,da:] = dbbL\n",
    "        return(L,G,H)"
   ]
  },
  {
   "cell_type": "code",
   "execution_count": 105,
   "metadata": {
    "code_folding": [
     0
    ]
   },
   "outputs": [],
   "source": [
    "def local_ot_debug(x, y, Niter=200, eps=1e-5, eta0=0.05, da=8, db=12, eta_min = 1e-4, eta_max=1e6, gamma = 5.2):\n",
    "    x_c = cutoff(x)\n",
    "    y_c = cutoff(y)\n",
    "    Nx = len(x)\n",
    "    Ny = len(y)\n",
    "\n",
    "    eta = eta0\n",
    "    etaC = 2.0\n",
    "\n",
    "    #setting up initial b, and minvar,D\n",
    "    vx = np.cov(x[:,:2].T,aweights=x[:,2])\n",
    "    vy = np.cov(y[:,:2].T,aweights=y[:,2])\n",
    "#     vx = np.cov(x_c[:,:2].T)\n",
    "#     vy = np.cov(y_c[:,:2].T)\n",
    "    mx = np.average(x[:,:2],axis=0,weights=x[:,2])\n",
    "    my = np.average(y[:,:2],axis=0,weights=y[:,2])\n",
    "\n",
    "    a0 = np.zeros(da)\n",
    "    #initial b\n",
    "    b0 = np.zeros(db)\n",
    "    B0 = 0.5*(la.inv(vy)-la.inv(vx))\n",
    "    b0[3] = B0[0,0]\n",
    "    b0[4] = B0[0,1]+B0[1,0]\n",
    "    b0[5] = B0[1,1]\n",
    "    B1 = la.solve(vx,mx) - la.solve(vy,my)\n",
    "    b0[1] = B1[0]\n",
    "    b0[2] = B1[1]\n",
    "    b0[0] = 0.5*(my.dot(la.solve(vy,my)) - mx.dot(la.solve(vx,mx))+np.log(la.det(vy)/la.det(vx)))\n",
    "    b0[7:9] = 0.1*np.random.uniform(low=-1.0,high=1.0,size=2)\n",
    "    b0[10:] = 0.1*np.random.uniform(low=-1.0,high=1.0,size=2)\n",
    "\n",
    "    z = np.concatenate([a0,b0],axis=0)\n",
    "    J = np.eye(da+db)\n",
    "    J[da:,da:] *= -1\n",
    "\n",
    "    #   initialize gradients  \n",
    "    a = a0\n",
    "    b = b0\n",
    "    Ln,Gn,Hn = LGH(x,y,a,b)\n",
    "\n",
    "    x0 = x[:,0]\n",
    "    x1 = x[:,1]\n",
    "\n",
    "    T = np.zeros((Nx,3))\n",
    "    T[:,0] = z[0] + (1+z[2])*x0+z[3]*x1\n",
    "    T[:,1] = z[1] + z[3]*x0+(1+z[4])*x1\n",
    "    T[:,2] = x[:,2]\n",
    "    \n",
    "    ####debug####  \n",
    "    listG = []\n",
    "    listeta = []\n",
    "    Lnn = []\n",
    "    Lnnp1 = []\n",
    "    Lnp1n = []\n",
    "    #############\n",
    "    \n",
    "    for n in range(Niter):\n",
    "        zold = z\n",
    "        nz = z\n",
    "        Gn_norm = la.norm(Gn,2)\n",
    "        ###################\n",
    "        listG.append(la.norm(Gn,2))\n",
    "        listeta.append(eta)\n",
    "        ###################\n",
    "        \n",
    "        if Gn_norm < eps:\n",
    "            break\n",
    "        #   delta = (delta0-deltainf)*np.exp(-5*(n+1)/Niter) + deltainf\n",
    "        validity = False\n",
    "        eta = min(gamma*eta, eta_max)\n",
    "        iters = 0\n",
    "        while(not validity):\n",
    "            iters += 1\n",
    "            eta = eta/2.0\n",
    "            if eta < eta_min:\n",
    "                break\n",
    "            dz = -la.solve((1.0/eta)*J+Hn,Gn)\n",
    "            nz = zold + dz\n",
    "            Ln1 = LGH(x,y,nz[:da],nz[da:],returnGH=False)\n",
    "            Lan1 = LGH(x,y,nz[:da],zold[da:],returnGH=False)\n",
    "            Lbn1 = LGH(x,y,zold[:da],nz[da:],returnGH=False)\n",
    "            v_0 = (Ln1<=Lbn1+1e-16) and (Lan1<=Ln1+1e-16)\n",
    "            validity = v_0 or (iters>=10)\n",
    "        z = z + dz\n",
    "        Lnn.append(Ln1)\n",
    "        Lnnp1.append(Lbn1)\n",
    "        Lnp1n.append(Lan1)\n",
    "        Ln,Gn,Hn = LGH(x,y,z[:da],z[da:])\n",
    "    a,b = z[:da],z[da:]\n",
    "    T = np.zeros((Nx,3))\n",
    "    T[:,0] = z[0] + (1+z[2])*x0+z[3]*x1\n",
    "    T[:,1] = z[1] + z[3]*x0+(1+z[4])*x1\n",
    "    T[:,2] = x[:,2]\n",
    "    \n",
    "    return T,a,b,[listG,listeta,Lnn,Lnnp1,Lnp1n]"
   ]
  },
  {
   "cell_type": "code",
   "execution_count": 111,
   "metadata": {
    "code_folding": [
     0
    ]
   },
   "outputs": [
    {
     "ename": "ValueError",
     "evalue": "x and y must have same first dimension, but have shapes (799,) and (800,)",
     "output_type": "error",
     "traceback": [
      "\u001b[0;31m---------------------------------------------------------------------------\u001b[0m",
      "\u001b[0;31mValueError\u001b[0m                                Traceback (most recent call last)",
      "\u001b[0;32m<ipython-input-111-3b63bb7ea09b>\u001b[0m in \u001b[0;36m<module>\u001b[0;34m\u001b[0m\n\u001b[1;32m     31\u001b[0m \u001b[0mplt\u001b[0m\u001b[0;34m.\u001b[0m\u001b[0mrc\u001b[0m\u001b[0;34m(\u001b[0m\u001b[0;34m'font'\u001b[0m\u001b[0;34m,\u001b[0m \u001b[0mfamily\u001b[0m\u001b[0;34m=\u001b[0m\u001b[0;34m'serif'\u001b[0m\u001b[0;34m)\u001b[0m\u001b[0;34m\u001b[0m\u001b[0;34m\u001b[0m\u001b[0m\n\u001b[1;32m     32\u001b[0m \u001b[0miterations\u001b[0m \u001b[0;34m=\u001b[0m \u001b[0mrange\u001b[0m\u001b[0;34m(\u001b[0m\u001b[0mlen\u001b[0m\u001b[0;34m(\u001b[0m\u001b[0mLs\u001b[0m\u001b[0;34m[\u001b[0m\u001b[0;36m0\u001b[0m\u001b[0;34m]\u001b[0m\u001b[0;34m)\u001b[0m\u001b[0;34m-\u001b[0m\u001b[0;36m1\u001b[0m\u001b[0;34m)\u001b[0m\u001b[0;34m\u001b[0m\u001b[0;34m\u001b[0m\u001b[0m\n\u001b[0;32m---> 33\u001b[0;31m \u001b[0mplt\u001b[0m\u001b[0;34m.\u001b[0m\u001b[0mplot\u001b[0m\u001b[0;34m(\u001b[0m\u001b[0miterations\u001b[0m\u001b[0;34m,\u001b[0m\u001b[0mLs\u001b[0m\u001b[0;34m[\u001b[0m\u001b[0;36m2\u001b[0m\u001b[0;34m]\u001b[0m\u001b[0;34m,\u001b[0m \u001b[0mlabel\u001b[0m\u001b[0;34m=\u001b[0m\u001b[0;34mr'$L^{n+1,n+1}$'\u001b[0m\u001b[0;34m,\u001b[0m \u001b[0mc\u001b[0m\u001b[0;34m=\u001b[0m\u001b[0;34m'C1'\u001b[0m\u001b[0;34m)\u001b[0m\u001b[0;34m\u001b[0m\u001b[0;34m\u001b[0m\u001b[0m\n\u001b[0m\u001b[1;32m     34\u001b[0m \u001b[0mplt\u001b[0m\u001b[0;34m.\u001b[0m\u001b[0mplot\u001b[0m\u001b[0;34m(\u001b[0m\u001b[0miterations\u001b[0m\u001b[0;34m,\u001b[0m\u001b[0mLs\u001b[0m\u001b[0;34m[\u001b[0m\u001b[0;36m3\u001b[0m\u001b[0;34m]\u001b[0m\u001b[0;34m,\u001b[0m \u001b[0mlabel\u001b[0m\u001b[0;34m=\u001b[0m\u001b[0;34mr'$L^{n+1,n}$'\u001b[0m\u001b[0;34m,\u001b[0m \u001b[0mc\u001b[0m\u001b[0;34m=\u001b[0m\u001b[0;34m'C0'\u001b[0m\u001b[0;34m,\u001b[0m \u001b[0mlinestyle\u001b[0m\u001b[0;34m=\u001b[0m\u001b[0;34m'--'\u001b[0m\u001b[0;34m)\u001b[0m\u001b[0;34m\u001b[0m\u001b[0;34m\u001b[0m\u001b[0m\n\u001b[1;32m     35\u001b[0m \u001b[0mplt\u001b[0m\u001b[0;34m.\u001b[0m\u001b[0mplot\u001b[0m\u001b[0;34m(\u001b[0m\u001b[0miterations\u001b[0m\u001b[0;34m,\u001b[0m\u001b[0mLs\u001b[0m\u001b[0;34m[\u001b[0m\u001b[0;36m4\u001b[0m\u001b[0;34m]\u001b[0m\u001b[0;34m,\u001b[0m \u001b[0mlabel\u001b[0m\u001b[0;34m=\u001b[0m\u001b[0;34mr'$L^{n,n+1}$'\u001b[0m\u001b[0;34m,\u001b[0m\u001b[0mc\u001b[0m\u001b[0;34m=\u001b[0m\u001b[0;34m'C2'\u001b[0m\u001b[0;34m,\u001b[0m \u001b[0mlinestyle\u001b[0m\u001b[0;34m=\u001b[0m\u001b[0;34m'--'\u001b[0m\u001b[0;34m)\u001b[0m\u001b[0;34m\u001b[0m\u001b[0;34m\u001b[0m\u001b[0m\n",
      "\u001b[0;32m~/anaconda3/lib/python3.7/site-packages/matplotlib/pyplot.py\u001b[0m in \u001b[0;36mplot\u001b[0;34m(scalex, scaley, data, *args, **kwargs)\u001b[0m\n\u001b[1;32m   2809\u001b[0m     return gca().plot(\n\u001b[1;32m   2810\u001b[0m         *args, scalex=scalex, scaley=scaley, **({\"data\": data} if data\n\u001b[0;32m-> 2811\u001b[0;31m         is not None else {}), **kwargs)\n\u001b[0m\u001b[1;32m   2812\u001b[0m \u001b[0;34m\u001b[0m\u001b[0m\n\u001b[1;32m   2813\u001b[0m \u001b[0;34m\u001b[0m\u001b[0m\n",
      "\u001b[0;32m~/anaconda3/lib/python3.7/site-packages/matplotlib/__init__.py\u001b[0m in \u001b[0;36minner\u001b[0;34m(ax, data, *args, **kwargs)\u001b[0m\n\u001b[1;32m   1808\u001b[0m                         \u001b[0;34m\"the Matplotlib list!)\"\u001b[0m \u001b[0;34m%\u001b[0m \u001b[0;34m(\u001b[0m\u001b[0mlabel_namer\u001b[0m\u001b[0;34m,\u001b[0m \u001b[0mfunc\u001b[0m\u001b[0;34m.\u001b[0m\u001b[0m__name__\u001b[0m\u001b[0;34m)\u001b[0m\u001b[0;34m,\u001b[0m\u001b[0;34m\u001b[0m\u001b[0;34m\u001b[0m\u001b[0m\n\u001b[1;32m   1809\u001b[0m                         RuntimeWarning, stacklevel=2)\n\u001b[0;32m-> 1810\u001b[0;31m             \u001b[0;32mreturn\u001b[0m \u001b[0mfunc\u001b[0m\u001b[0;34m(\u001b[0m\u001b[0max\u001b[0m\u001b[0;34m,\u001b[0m \u001b[0;34m*\u001b[0m\u001b[0margs\u001b[0m\u001b[0;34m,\u001b[0m \u001b[0;34m**\u001b[0m\u001b[0mkwargs\u001b[0m\u001b[0;34m)\u001b[0m\u001b[0;34m\u001b[0m\u001b[0;34m\u001b[0m\u001b[0m\n\u001b[0m\u001b[1;32m   1811\u001b[0m \u001b[0;34m\u001b[0m\u001b[0m\n\u001b[1;32m   1812\u001b[0m         inner.__doc__ = _add_data_doc(inner.__doc__,\n",
      "\u001b[0;32m~/anaconda3/lib/python3.7/site-packages/matplotlib/axes/_axes.py\u001b[0m in \u001b[0;36mplot\u001b[0;34m(self, scalex, scaley, *args, **kwargs)\u001b[0m\n\u001b[1;32m   1609\u001b[0m         \u001b[0mkwargs\u001b[0m \u001b[0;34m=\u001b[0m \u001b[0mcbook\u001b[0m\u001b[0;34m.\u001b[0m\u001b[0mnormalize_kwargs\u001b[0m\u001b[0;34m(\u001b[0m\u001b[0mkwargs\u001b[0m\u001b[0;34m,\u001b[0m \u001b[0mmlines\u001b[0m\u001b[0;34m.\u001b[0m\u001b[0mLine2D\u001b[0m\u001b[0;34m.\u001b[0m\u001b[0m_alias_map\u001b[0m\u001b[0;34m)\u001b[0m\u001b[0;34m\u001b[0m\u001b[0;34m\u001b[0m\u001b[0m\n\u001b[1;32m   1610\u001b[0m \u001b[0;34m\u001b[0m\u001b[0m\n\u001b[0;32m-> 1611\u001b[0;31m         \u001b[0;32mfor\u001b[0m \u001b[0mline\u001b[0m \u001b[0;32min\u001b[0m \u001b[0mself\u001b[0m\u001b[0;34m.\u001b[0m\u001b[0m_get_lines\u001b[0m\u001b[0;34m(\u001b[0m\u001b[0;34m*\u001b[0m\u001b[0margs\u001b[0m\u001b[0;34m,\u001b[0m \u001b[0;34m**\u001b[0m\u001b[0mkwargs\u001b[0m\u001b[0;34m)\u001b[0m\u001b[0;34m:\u001b[0m\u001b[0;34m\u001b[0m\u001b[0;34m\u001b[0m\u001b[0m\n\u001b[0m\u001b[1;32m   1612\u001b[0m             \u001b[0mself\u001b[0m\u001b[0;34m.\u001b[0m\u001b[0madd_line\u001b[0m\u001b[0;34m(\u001b[0m\u001b[0mline\u001b[0m\u001b[0;34m)\u001b[0m\u001b[0;34m\u001b[0m\u001b[0;34m\u001b[0m\u001b[0m\n\u001b[1;32m   1613\u001b[0m             \u001b[0mlines\u001b[0m\u001b[0;34m.\u001b[0m\u001b[0mappend\u001b[0m\u001b[0;34m(\u001b[0m\u001b[0mline\u001b[0m\u001b[0;34m)\u001b[0m\u001b[0;34m\u001b[0m\u001b[0;34m\u001b[0m\u001b[0m\n",
      "\u001b[0;32m~/anaconda3/lib/python3.7/site-packages/matplotlib/axes/_base.py\u001b[0m in \u001b[0;36m_grab_next_args\u001b[0;34m(self, *args, **kwargs)\u001b[0m\n\u001b[1;32m    391\u001b[0m                 \u001b[0mthis\u001b[0m \u001b[0;34m+=\u001b[0m \u001b[0margs\u001b[0m\u001b[0;34m[\u001b[0m\u001b[0;36m0\u001b[0m\u001b[0;34m]\u001b[0m\u001b[0;34m,\u001b[0m\u001b[0;34m\u001b[0m\u001b[0;34m\u001b[0m\u001b[0m\n\u001b[1;32m    392\u001b[0m                 \u001b[0margs\u001b[0m \u001b[0;34m=\u001b[0m \u001b[0margs\u001b[0m\u001b[0;34m[\u001b[0m\u001b[0;36m1\u001b[0m\u001b[0;34m:\u001b[0m\u001b[0;34m]\u001b[0m\u001b[0;34m\u001b[0m\u001b[0;34m\u001b[0m\u001b[0m\n\u001b[0;32m--> 393\u001b[0;31m             \u001b[0;32myield\u001b[0m \u001b[0;32mfrom\u001b[0m \u001b[0mself\u001b[0m\u001b[0;34m.\u001b[0m\u001b[0m_plot_args\u001b[0m\u001b[0;34m(\u001b[0m\u001b[0mthis\u001b[0m\u001b[0;34m,\u001b[0m \u001b[0mkwargs\u001b[0m\u001b[0;34m)\u001b[0m\u001b[0;34m\u001b[0m\u001b[0;34m\u001b[0m\u001b[0m\n\u001b[0m\u001b[1;32m    394\u001b[0m \u001b[0;34m\u001b[0m\u001b[0m\n\u001b[1;32m    395\u001b[0m \u001b[0;34m\u001b[0m\u001b[0m\n",
      "\u001b[0;32m~/anaconda3/lib/python3.7/site-packages/matplotlib/axes/_base.py\u001b[0m in \u001b[0;36m_plot_args\u001b[0;34m(self, tup, kwargs)\u001b[0m\n\u001b[1;32m    368\u001b[0m             \u001b[0mx\u001b[0m\u001b[0;34m,\u001b[0m \u001b[0my\u001b[0m \u001b[0;34m=\u001b[0m \u001b[0mindex_of\u001b[0m\u001b[0;34m(\u001b[0m\u001b[0mtup\u001b[0m\u001b[0;34m[\u001b[0m\u001b[0;34m-\u001b[0m\u001b[0;36m1\u001b[0m\u001b[0;34m]\u001b[0m\u001b[0;34m)\u001b[0m\u001b[0;34m\u001b[0m\u001b[0;34m\u001b[0m\u001b[0m\n\u001b[1;32m    369\u001b[0m \u001b[0;34m\u001b[0m\u001b[0m\n\u001b[0;32m--> 370\u001b[0;31m         \u001b[0mx\u001b[0m\u001b[0;34m,\u001b[0m \u001b[0my\u001b[0m \u001b[0;34m=\u001b[0m \u001b[0mself\u001b[0m\u001b[0;34m.\u001b[0m\u001b[0m_xy_from_xy\u001b[0m\u001b[0;34m(\u001b[0m\u001b[0mx\u001b[0m\u001b[0;34m,\u001b[0m \u001b[0my\u001b[0m\u001b[0;34m)\u001b[0m\u001b[0;34m\u001b[0m\u001b[0;34m\u001b[0m\u001b[0m\n\u001b[0m\u001b[1;32m    371\u001b[0m \u001b[0;34m\u001b[0m\u001b[0m\n\u001b[1;32m    372\u001b[0m         \u001b[0;32mif\u001b[0m \u001b[0mself\u001b[0m\u001b[0;34m.\u001b[0m\u001b[0mcommand\u001b[0m \u001b[0;34m==\u001b[0m \u001b[0;34m'plot'\u001b[0m\u001b[0;34m:\u001b[0m\u001b[0;34m\u001b[0m\u001b[0;34m\u001b[0m\u001b[0m\n",
      "\u001b[0;32m~/anaconda3/lib/python3.7/site-packages/matplotlib/axes/_base.py\u001b[0m in \u001b[0;36m_xy_from_xy\u001b[0;34m(self, x, y)\u001b[0m\n\u001b[1;32m    229\u001b[0m         \u001b[0;32mif\u001b[0m \u001b[0mx\u001b[0m\u001b[0;34m.\u001b[0m\u001b[0mshape\u001b[0m\u001b[0;34m[\u001b[0m\u001b[0;36m0\u001b[0m\u001b[0;34m]\u001b[0m \u001b[0;34m!=\u001b[0m \u001b[0my\u001b[0m\u001b[0;34m.\u001b[0m\u001b[0mshape\u001b[0m\u001b[0;34m[\u001b[0m\u001b[0;36m0\u001b[0m\u001b[0;34m]\u001b[0m\u001b[0;34m:\u001b[0m\u001b[0;34m\u001b[0m\u001b[0;34m\u001b[0m\u001b[0m\n\u001b[1;32m    230\u001b[0m             raise ValueError(\"x and y must have same first dimension, but \"\n\u001b[0;32m--> 231\u001b[0;31m                              \"have shapes {} and {}\".format(x.shape, y.shape))\n\u001b[0m\u001b[1;32m    232\u001b[0m         \u001b[0;32mif\u001b[0m \u001b[0mx\u001b[0m\u001b[0;34m.\u001b[0m\u001b[0mndim\u001b[0m \u001b[0;34m>\u001b[0m \u001b[0;36m2\u001b[0m \u001b[0;32mor\u001b[0m \u001b[0my\u001b[0m\u001b[0;34m.\u001b[0m\u001b[0mndim\u001b[0m \u001b[0;34m>\u001b[0m \u001b[0;36m2\u001b[0m\u001b[0;34m:\u001b[0m\u001b[0;34m\u001b[0m\u001b[0;34m\u001b[0m\u001b[0m\n\u001b[1;32m    233\u001b[0m             raise ValueError(\"x and y can be no greater than 2-D, but have \"\n",
      "\u001b[0;31mValueError\u001b[0m: x and y must have same first dimension, but have shapes (799,) and (800,)"
     ]
    },
    {
     "data": {
      "image/png": "[encoded data removed]",
      "text/plain": [
       "<Figure size 1440x1080 with 2 Axes>"
      ]
     },
     "metadata": {
      "needs_background": "light"
     },
     "output_type": "display_data"
    },
    {
     "data": {
      "image/png": "[encoded data removed]",
      "text/plain": [
       "<Figure size 1080x576 with 1 Axes>"
      ]
     },
     "metadata": {
      "needs_background": "light"
     },
     "output_type": "display_data"
    }
   ],
   "source": [
    "#Test the local algorithm\n",
    "T, a, b, Ls= local_ot_debug(x,y,Niter=800,eps=1e-6,eta0=0.05,gamma = 2.3)\n",
    "from decimal import Decimal\n",
    "from matplotlib import rc\n",
    "#####DEBUG#####\n",
    "#find minimal Gn, Dn\n",
    "minG = np.min(Ls[0])\n",
    "iminG = np.argmin(Ls[0])\n",
    "\n",
    "fig = plt.figure(figsize=(20,15))\n",
    "\n",
    "ax1 = fig.add_subplot(4, 1, 1)\n",
    "ax1.plot(Ls[0])\n",
    "ax1.scatter(iminG,minG, c = 'r', s = 100)\n",
    "decG = '%.2E' % Decimal(minG)\n",
    "ax1.annotate(decG, (iminG,minG+0.1), fontsize=20)\n",
    "ax1.set_title('|Gn|')\n",
    "# ax1.axvline(iminD, c = 'black', ls = 'dotted')\n",
    "\n",
    "ax2 = fig.add_subplot(4, 1, 2)\n",
    "ax2.semilogy(Ls[1])\n",
    "# ax4.axvline(iminD, c = 'black', ls = 'dotted')\n",
    "ax2.set_title('eta');\n",
    "###############\n",
    "rc('font',**{'family':'sans-serif','sans-serif':['Helvetica']})\n",
    "## for Palatino and other serif fonts use:\n",
    "#rc('font',**{'family':'serif','serif':['Palatino']})\n",
    "rc('text', usetex=True)\n",
    "plt.figure(figsize=(15,8))\n",
    "plt.rc('text', usetex=True)\n",
    "plt.rc('font', family='serif')\n",
    "iterations = range(len(Ls[0])-1)\n",
    "plt.plot(iterations,Ls[2], label=r'$L^{n+1,n+1}$', c='C1')\n",
    "plt.plot(iterations,Ls[3], label=r'$L^{n+1,n}$', c='C0', linestyle='--')\n",
    "plt.plot(iterations,Ls[4], label=r'$L^{n,n+1}$',c='C2', linestyle='--')\n",
    "plt.legend()\n",
    "# plt.ylim(ymin=-1.00001, ymax=-0.99999)\n",
    "print(a,b)"
   ]
  },
  {
   "cell_type": "code",
   "execution_count": 112,
   "metadata": {
    "code_folding": [
     0,
     1
    ]
   },
   "outputs": [
    {
     "data": {
      "image/png": "[encoded data removed]",
      "text/plain": [
       "<Figure size 432x288 with 1 Axes>"
      ]
     },
     "metadata": {
      "needs_background": "light"
     },
     "output_type": "display_data"
    },
    {
     "data": {
      "image/png": "[encoded data removed]",
      "text/plain": [
       "<Figure size 432x288 with 1 Axes>"
      ]
     },
     "metadata": {
      "needs_background": "light"
     },
     "output_type": "display_data"
    },
    {
     "data": {
      "image/png": "[encoded data removed]",
      "text/plain": [
       "<Figure size 432x288 with 1 Axes>"
      ]
     },
     "metadata": {
      "needs_background": "light"
     },
     "output_type": "display_data"
    }
   ],
   "source": [
    "#plot the new image generated by optimal transport\n",
    "def rho_T(x,T,rho_x,delta = 5e3):\n",
    "    T0 = T[:,0]\n",
    "    T1 = T[:,1]\n",
    "    x0T0 = x[0]-T[:,0]\n",
    "    x1T1 = x[1]-T[:,1]\n",
    "    argexp = -delta*(x0T0**2+x1T1**2)\n",
    "    exp_v = np.exp(argexp)\n",
    "    return exp_v.dot(rho_x)\n",
    "pixels_T = np.array([rho_T(x[i,:2],T[:,:2],T[:,2]) for i in range(len(x))])\n",
    "image_count = 0\n",
    "faceX = np.reshape(pixels_1,(60,60))\n",
    "image_count+=1\n",
    "plt.figure(image_count)\n",
    "plt.title('original pixel 60x60')\n",
    "plt.imshow(faceX,cmap=plt.cm.gray)\n",
    "plt.show('hold')\n",
    "\n",
    "faceY = np.reshape(pixels_2,(61,62))\n",
    "image_count+=1\n",
    "plt.figure(image_count)\n",
    "plt.title('target pixel 63x64')\n",
    "plt.imshow(faceY,cmap=plt.cm.gray)\n",
    "plt.show('hold')\n",
    "\n",
    "faceT = np.reshape(pixels_T,(60,60))\n",
    "image_count+=1\n",
    "plt.figure(image_count)\n",
    "plt.title('transfer pixel 60x60')\n",
    "plt.imshow(faceT,cmap=plt.cm.gray)\n",
    "plt.show('hold')"
   ]
  },
  {
   "cell_type": "code",
   "execution_count": 113,
   "metadata": {},
   "outputs": [
    {
     "data": {
      "text/plain": [
       "<matplotlib.collections.PathCollection at 0x1c19453da0>"
      ]
     },
     "execution_count": 113,
     "metadata": {},
     "output_type": "execute_result"
    },
    {
     "data": {
      "image/png": "[encoded data removed]",
      "text/plain": [
       "<Figure size 432x288 with 1 Axes>"
      ]
     },
     "metadata": {
      "needs_background": "light"
     },
     "output_type": "display_data"
    }
   ],
   "source": [
    "plt.scatter(x[:,0],x[:,1])\n",
    "plt.scatter(T[:,0],T[:,1])"
   ]
  },
  {
   "cell_type": "code",
   "execution_count": 104,
   "metadata": {},
   "outputs": [
    {
     "name": "stdout",
     "output_type": "stream",
     "text": [
      "0.01049299342817983\n"
     ]
    }
   ],
   "source": [
    "a = [0.008,0.008,0,0,0,0,0,0]\n",
    "b = 12*[0]\n",
    "L,G,H = LGH(x,y,a,b)\n",
    "print(la.norm(G,2))"
   ]
  },
  {
   "cell_type": "code",
   "execution_count": null,
   "metadata": {},
   "outputs": [],
   "source": []
  }
 ],
 "metadata": {
  "kernelspec": {
   "display_name": "Python 3",
   "language": "python",
   "name": "python3"
  },
  "language_info": {
   "codemirror_mode": {
    "name": "ipython",
    "version": 3
   },
   "file_extension": ".py",
   "mimetype": "text/x-python",
   "name": "python",
   "nbconvert_exporter": "python",
   "pygments_lexer": "ipython3",
   "version": "3.7.3"
  }
 },
 "nbformat": 4,
 "nbformat_minor": 2
}
