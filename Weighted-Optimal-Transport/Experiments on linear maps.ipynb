{
 "cells": [
  {
   "cell_type": "markdown",
   "metadata": {},
   "source": [
    "$$\\phi(\\mathbf{x}) = \\mathbf{a}\\cdot\\mathbf{x} + \\frac{1}{2}\\mathbf{x}^TA\\mathbf{x}$$ \n",
    "$$= a_0x_0+a_1x_1+\\frac{1}{2}(1+a_2)x_0^2+a_3x_0x_1+\\frac{1}{2}(1+a_4)x_1^2$$\n",
    "where $$\\mathbf{x} = (x_0,x_1),\\mathbf{a} = (a_0,a_1), A = \n",
    "                                \\begin{pmatrix}\n",
    "                                    1+a_2 & a_3\\\\\n",
    "                                    a_3 & 1+a_4\n",
    "                                \\end{pmatrix}$$"
   ]
  },
  {
   "cell_type": "markdown",
   "metadata": {},
   "source": [
    "$$g(\\mathbf{z}) = b_0 + \\mathbf{b}\\cdot\\mathbf{z} + \\frac{1}{2}\\mathbf{z}^TB\\mathbf{z}$$\n",
    "$$=b_0 + b_1 z_0 + b_2 z_1 + \\frac{1}{2} b_3 z_0^2 + b_4 z_0z_1 + \\frac{1}{2} b_5 z_1^2$$\n",
    "where\n",
    "$$\\mathbf{z} = (z_0,z_1),\\mathbf{b} = (b_1,b_2), B=\\begin{pmatrix}\n",
    "                                b_3 & b_4\\\\\n",
    "                                b_4 & b_5\n",
    "                            \\end{pmatrix}$$"
   ]
  },
  {
   "cell_type": "markdown",
   "metadata": {},
   "source": [
    "$$\n",
    "T(\\mathbf{x}) = \\nabla\\phi(\\mathbf{x})=  \\begin{pmatrix} a_0 + (1+a_2) x_0 + a_3 x_1  \\\\ a_1 + (1+a_4) x_1 + a_3 x_0 \\end{pmatrix}\\\\\n",
    "=\\mathbf{a}+A\\mathbf{x}\n",
    "$$\n",
    "$\\mathbf{a}$ captures translation of distribution and $A$ captures the scaling and rotation."
   ]
  },
  {
   "cell_type": "markdown",
   "metadata": {},
   "source": [
    "We find the map T by mini-maximzing(refer to Essid&Tabak $\\textbf{Implicit gradient descent for minimax}$) the Lagrangian\n",
    "$$L^w(\\alpha,\\beta) = \\frac{1}{\\sum_{k=1}^n\\rho(\\overrightarrow{x_k})}\\sum_{i=1}^ng(\\nabla_{\\overrightarrow{x}}\\phi(\\overrightarrow{x_i}))\\rho(\\overrightarrow{x_i})-\\frac{1}{\\sum_{k=1}^n\\mu(\\overrightarrow{y_k})}\\sum_{j=1}^me^{g(\\overrightarrow{y_j})}\\mu(\\overrightarrow{y_j})$$\n",
    ", where $\\rho,\\mu$ are intensity values of two sets of sample points $(\\overrightarrow{x_i})$ and $\\overrightarrow{y_j}$ respectively.<br>\n",
    "In our case of images, $\\overrightarrow{x_i}$'s are just points on the grid. Each of the points is attached with an intensity value \\overrightarrow{x_i}, indicating its grayscale."
   ]
  },
  {
   "cell_type": "markdown",
   "metadata": {},
   "source": [
    "We use kernel density estimation to recover the image after transport.\n",
    "Intensity for the pixels after transport map: $\\mathbf{x}=(x,y)$ is any position of pixels, and for some $\\delta>0$(here we use $\\delta = 10^3$),\n",
    "$$\\rho(\\mathbf{x})=\\sum_{i=1}^n\\rho_ie^{-\\delta||\\mathbf{x}-T(x_i)||^2} =\\sum_{i=1}^n\\rho_ie^{-\\delta[(x-T[i,0])^2+(y-T[i,1])^2]} $$\n",
    "Therefore, the resulting pixel picture will depend on how we choose this delta."
   ]
  },
  {
   "cell_type": "markdown",
   "metadata": {},
   "source": [
    "## Local Map\n",
    "two initializations using unweighted covariance of cutoff pixels and weighted covariance of all pixels<br>\n",
    "<br>\n",
    "$\\textbf{1. small translation of Gaussians}$<br>\n",
    "<img src = pic_1.png>\n",
    "<img src = pic_1(2).png>\n",
    "<img src = pic_2.png>\n",
    "\n",
    "$\\textbf{2. Scale change of Gaussians}$ (target Gaussian std is 10% smaller than orginal Gaussian)<br>\n",
    "<img src = pic_3.png>\n",
    "<img src = pic_4.png>\n",
    "$\\textbf{3. rotation of ellipse}$<br>\n",
    "<img src = pic_5.png>\n",
    "<img src = pic_6.png>\n"
   ]
  },
  {
   "cell_type": "markdown",
   "metadata": {},
   "source": [
    "<img src = pic_32.png>\n",
    "This table suggests that the algorithm might breakdown if the initialization is out of certain range, which is not known yet. "
   ]
  },
  {
   "cell_type": "markdown",
   "metadata": {},
   "source": [
    "## Global Map\n",
    "1. Linear interpolation\n",
    "2. Interpolation using explicit optimal transport map between Gaussians\n",
    "\n",
    "$\\textbf{Issues of second interpolation:}$<br>\n",
    "(1) Need many interpolation steps in between to do global OT, which may lead to large running time<br>\n",
    "(2) Linear function space is not enough for local OT in intermediate distributions. Still need effective nonlinear terms<br>\n",
    "\n",
    "\n"
   ]
  },
  {
   "cell_type": "code",
   "execution_count": null,
   "metadata": {},
   "outputs": [],
   "source": []
  }
 ],
 "metadata": {
  "kernelspec": {
   "display_name": "Python 3",
   "language": "python",
   "name": "python3"
  },
  "language_info": {
   "codemirror_mode": {
    "name": "ipython",
    "version": 3
   },
   "file_extension": ".py",
   "mimetype": "text/x-python",
   "name": "python",
   "nbconvert_exporter": "python",
   "pygments_lexer": "ipython3",
   "version": "3.7.3"
  }
 },
 "nbformat": 4,
 "nbformat_minor": 2
}
