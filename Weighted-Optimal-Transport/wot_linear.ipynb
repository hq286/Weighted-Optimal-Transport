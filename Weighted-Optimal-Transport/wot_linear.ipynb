{
 "cells": [
  {
   "cell_type": "code",
   "execution_count": 16,
   "metadata": {},
   "outputs": [],
   "source": [
    "import os\n",
    "import csv\n",
    "from PIL import Image\n",
    "import numpy as np\n",
    "import numpy.linalg as la\n",
    "from scipy import linalg\n",
    "from scipy import spatial\n",
    "from scipy import signal\n",
    "import matplotlib.pyplot as plt\n",
    "from math import *\n",
    "import time\n",
    "\n",
    "%matplotlib inline"
   ]
  },
  {
   "cell_type": "code",
   "execution_count": 17,
   "metadata": {
    "code_folding": [
     0
    ]
   },
   "outputs": [],
   "source": [
    "def gkern(kernlen, std):\n",
    "    \"\"\"Returns a 2D Gaussian kernel array.\"\"\"\n",
    "    gkern1d = signal.gaussian(kernlen, std=std).reshape(kernlen, 1)\n",
    "    gkern2d = np.outer(gkern1d, gkern1d)\n",
    "    return gkern2d"
   ]
  },
  {
   "cell_type": "code",
   "execution_count": 18,
   "metadata": {
    "code_folding": [
     0
    ]
   },
   "outputs": [],
   "source": [
    "def Gaussian_pixels(L1,W1,L2,W2,sizeG,std,nml,tr=3,sc=1):\n",
    "    x_0 = np.zeros((L1*W1,2))\n",
    "    for i in range(L1*W1):\n",
    "        x_0[i][0] = (i//W1)/L1\n",
    "        x_0[i][1] = (i%W1)/W1\n",
    "\n",
    "    # y_0 = x_0\n",
    "    \n",
    "    y_0 = np.zeros((L2*W2,2))\n",
    "    for i in range(L2*W2):\n",
    "        y_0[i][0] = (i//W2)/L2\n",
    "        y_0[i][1] = (i%W2)/W2\n",
    "\n",
    "    Gaussian_1 = gkern(sizeG,std)\n",
    "    Gaussian_2 = gkern(sizeG,sc*std)\n",
    "    \n",
    "    rec_x = np.zeros((L1,W1))\n",
    "    rec_y = np.zeros((L2,W2))\n",
    "    rec_x[2:sizeG+2,2:sizeG+2] = Gaussian_1\n",
    "    rec_y[2+tr:sizeG+2+tr,tr+2:sizeG+tr+2] = Gaussian_2\n",
    "\n",
    "    pixels_1 = rec_x.flatten()\n",
    "    n_pixels_1 = np.array([1.0/pixels_1.sum()*pixels_1])\n",
    "    pixels_2 = rec_y.flatten()\n",
    "    n_pixels_2 = np.array([1.0/pixels_2.sum()*pixels_2])\n",
    "\n",
    "    x = np.concatenate(((L1/nml)*x_0,n_pixels_1.T),axis=1)\n",
    "    y = np.concatenate(((L1/nml)*y_0,n_pixels_2.T),axis=1)\n",
    "    \n",
    "    return x,y,pixels_1,pixels_2"
   ]
  },
  {
   "cell_type": "code",
   "execution_count": 19,
   "metadata": {
    "code_folding": [
     0,
     6
    ]
   },
   "outputs": [],
   "source": [
    "def ellipse(major,minor,std_1,std_2):\n",
    "    G1 = signal.gaussian(major, std_1).reshape(major, 1)\n",
    "    G2 = signal.gaussian(minor, std_2).reshape(minor, 1)\n",
    "    E = np.outer(G1,G2)\n",
    "    return E\n",
    "\n",
    "def ellipse_pixels(L1,W1,L2,W2,major,minor,std_1,std_2,nml,tr=0,sc=1):\n",
    "    x_0 = np.zeros((L1*W1,2))\n",
    "    for i in range(L1*W1):\n",
    "        x_0[i][0] = (i//W1)/L1\n",
    "        x_0[i][1] = (i%W1)/W1\n",
    "\n",
    "    # y_0 = x_0\n",
    "    \n",
    "    y_0 = np.zeros((L2*W2,2))\n",
    "    for i in range(L2*W2):\n",
    "        y_0[i][0] = (i//W2)/L2\n",
    "        y_0[i][1] = (i%W2)/W2\n",
    "\n",
    "    E_1 = ellipse(major,minor,std_1,std_2)\n",
    "    E_2 = ellipse(minor,major,std_2,std_1)\n",
    "    \n",
    "    rec_x = np.zeros((L1,W1))+1e-10\n",
    "    rec_y = np.zeros((L2,W2))+1e-10\n",
    "    rec_x[2:major+2,2:minor+2] = E_1\n",
    "    rec_y[2+tr:minor+2+tr,tr+2:major+tr+2] = E_2\n",
    "\n",
    "    pixels_1 = rec_x.flatten()\n",
    "    n_pixels_1 = np.array([1.0/pixels_1.sum()*pixels_1])\n",
    "    pixels_2 = rec_y.flatten()\n",
    "    n_pixels_2 = np.array([1.0/pixels_2.sum()*pixels_2])\n",
    "\n",
    "    x = np.concatenate(((L1/nml)*x_0,n_pixels_1.T),axis=1)\n",
    "    y = np.concatenate(((L1/nml)*y_0,n_pixels_2.T),axis=1)\n",
    "    \n",
    "    return x,y,pixels_1,pixels_2"
   ]
  },
  {
   "cell_type": "code",
   "execution_count": 20,
   "metadata": {},
   "outputs": [
    {
     "data": {
      "text/plain": [
       "<matplotlib.image.AxesImage at 0x1c18aeeeb8>"
      ]
     },
     "execution_count": 20,
     "metadata": {},
     "output_type": "execute_result"
    },
    {
     "data": {
      "image/png": "[encoded data removed]",
      "text/plain": [
       "<Figure size 432x288 with 1 Axes>"
      ]
     },
     "metadata": {
      "needs_background": "light"
     },
     "output_type": "display_data"
    },
    {
     "data": {
      "image/png": "[encoded data removed]",
      "text/plain": [
       "<Figure size 432x288 with 1 Axes>"
      ]
     },
     "metadata": {
      "needs_background": "light"
     },
     "output_type": "display_data"
    }
   ],
   "source": [
    "###x: Generate an image of 2D Gaussian kernel, with image size of 60x60 pixels###\n",
    "###y: Generate an image of 2D Gaussian kernel, with image size of 61x62 pixels###\n",
    "x,y,pixels_1,pixels_2 = Gaussian_pixels(60,60,61,62,40,7,100,tr=0,sc=0.9)\n",
    "image_count = 0\n",
    "faceX = np.reshape(pixels_1,(60,60))\n",
    "image_count+=1\n",
    "plt.figure(image_count)\n",
    "plt.title('source pixel')\n",
    "plt.imshow(faceX,cmap=plt.cm.gray)\n",
    "# plt.show('hold')\n",
    "\n",
    "faceX = np.reshape(pixels_2,(61,62))\n",
    "image_count+=1\n",
    "plt.figure(image_count)\n",
    "plt.title('target pixel')\n",
    "plt.imshow(faceX,cmap=plt.cm.gray)\n",
    "# plt.show('hold')"
   ]
  },
  {
   "cell_type": "code",
   "execution_count": 21,
   "metadata": {
    "code_folding": [
     0
    ]
   },
   "outputs": [],
   "source": [
    "def cutoff(x):\n",
    "    ###drop pixels with intensity below a certain level; this case we drop pixels with intensity value 0\n",
    "    nx = []\n",
    "    for i in range(len(x)):\n",
    "        if x[i][2] != 0:\n",
    "            nx.append(x[i])\n",
    "    return np.array(nx)"
   ]
  },
  {
   "cell_type": "code",
   "execution_count": 22,
   "metadata": {
    "code_folding": [
     0,
     22,
     43,
     52,
     95,
     129
    ]
   },
   "outputs": [],
   "source": [
    "def Tx(x,y):\n",
    "    ###Explicit optimal transport map from a Gaussian distribution (mx,vx) to another Gaussian distribution (my,vy)\n",
    "    x_0 = x[:,:2]\n",
    "    y_0 = y[:,:2]\n",
    "    mx = np.average(x_0,axis=0,weights = x[:,2])\n",
    "    my = np.average(y_0,axis=0,weights = y[:,2])\n",
    "    vx = np.cov(x_0.T,aweights = x[:,2])\n",
    "    vy = np.cov(y_0.T,aweights = y[:,2])\n",
    "    \n",
    "    \n",
    "    sqrt = linalg.sqrtm(vx)\n",
    "    ml = np.matmul(sqrt,vy)\n",
    "    m = np.matmul(ml,sqrt)\n",
    "    sqrt_inv = la.inv(sqrt)\n",
    "    l = np.matmul(sqrt_inv,linalg.sqrtm(m))\n",
    "    A = np.matmul(l,sqrt_inv)\n",
    "    \n",
    "    x_T = np.zeros((len(x),2))\n",
    "    x_T = my+np.einsum('ij,jk->ik',A,(x_0-mx).T).T\n",
    "    \n",
    "    return x_T\n",
    "    \n",
    "def Ty(y,x):\n",
    "    ###Explicit optimal transport map from a Gaussian distribution (my,vy) to another Gaussian distribution (mx,vx)\n",
    "    x_0 = x[:,:2]\n",
    "    y_0 = y[:,:2]\n",
    "    mx = np.average(x_0,axis=0,weights = x[:,2])\n",
    "    my = np.average(y_0,axis=0,weights = y[:,2])\n",
    "    vx = np.cov(x_0.T,aweights = x[:,2])\n",
    "    vy = np.cov(y_0.T,aweights = y[:,2])\n",
    "    \n",
    "    sqrt = linalg.sqrtm(vy)\n",
    "    ml = np.matmul(sqrt,vx)\n",
    "    m = np.matmul(ml,sqrt)\n",
    "    sqrt_inv = la.inv(sqrt)\n",
    "    l = np.matmul(sqrt_inv,linalg.sqrtm(m))\n",
    "    A = np.matmul(l,sqrt_inv)\n",
    "    \n",
    "    y_T = np.zeros((len(y),2))\n",
    "    y_T = mx+np.einsum('ij,jk->ik',A,(y_0-my).T).T\n",
    "    \n",
    "    return y_T\n",
    "\n",
    "def compose(x,y,p):\n",
    "    twx = x.sum(axis=0)[2]\n",
    "    twy = y.sum(axis=0)[2]\n",
    "    \n",
    "    x[:,2] = p/twx*x[:,2]\n",
    "    y[:,2] = (1-p)/twy*y[:,2]\n",
    "    \n",
    "    return np.concatenate([x,y])\n",
    "\n",
    "####two ways to initialize intermediate sets of points, interpolate_1 picks points using weights of each points\n",
    "####interpolate_2 picks points with uniform probability\n",
    "####interpolate_2 works better in practice\n",
    "def interpolate_1(x,y,K):\n",
    "    Nx = len(x)\n",
    "    Ny = len(y)\n",
    "    d1 = np.arange(Nx)\n",
    "    d2 = np.arange(Ny)\n",
    "    wx = x[:,2]\n",
    "    wy = y[:,2]\n",
    "    \n",
    "    x_T = Tx(x,y)\n",
    "    x_K = x_T\n",
    "    y_T = Ty(y,x)\n",
    "    mu = []\n",
    "    mu.append(x)\n",
    "    \n",
    "    z0k = np.zeros((Nx,3))\n",
    "    zKk = np.zeros((Ny,3))\n",
    "    z0k[:,2] = x[:,2]\n",
    "    zKk[:,2] = y[:,2]\n",
    "    rx = np.random.choice(d1, Nx,replace=False, p=wx)\n",
    "    ry = np.random.choice(d2, Ny,replace=False, p=wy)\n",
    "    for k in range(1,K):\n",
    "        z0k[:,:2] = (1-k/K)*x[:,:2]+(k/K)*x_T[:,:2]\n",
    "        zx = z0k[rx]\n",
    "        rx_sum=0\n",
    "        for i in range(Nx):\n",
    "            if rx_sum >= 1-k/K:\n",
    "                break\n",
    "            rx_sum += zx[i][2]\n",
    "        \n",
    "\n",
    "        zKk[:,:2] = (1-k/K)*y_T[:,:2]+(k/K)*y[:,:2]\n",
    "        zy = zKk[ry]\n",
    "        ry_sum=0\n",
    "        for j in range(Ny):\n",
    "            if ry_sum >= k/K:\n",
    "                break\n",
    "            ry_sum += zy[j,2]\n",
    "        z = compose(zx[:i],zy[:j],1-k/K)\n",
    "        mu.append(z)\n",
    "    mu.append(y)\n",
    "    \n",
    "    return mu,x_K,y_T \n",
    "\n",
    "def interpolate_2(x,y,K):\n",
    "    Nx = len(x)\n",
    "    Ny = len(y)\n",
    "    wx = x[:,2]\n",
    "    wy = y[:,2]\n",
    "    \n",
    "    x_T = Tx(x,y)\n",
    "    x_K = x_T\n",
    "    y_T = Ty(y,x)\n",
    "    mu = []\n",
    "    mu.append(x)\n",
    "    \n",
    "    z0k = np.zeros((Nx,3))\n",
    "    zKk = np.zeros((Ny,3))\n",
    "    z0k[:,2] = x[:,2]\n",
    "    zKk[:,2] = y[:,2]\n",
    "    \n",
    "    rx = np.random.choice(np.arange(Nx),Nx,replace=False)\n",
    "    ry = np.random.choice(np.arange(Ny),Ny,replace=False)\n",
    "    \n",
    "    for k in range(1,K):\n",
    "        z0k[:,:2] = (1-k/K)*x[:,:2]+(k/K)*x_T[:,:2]\n",
    "        zx = z0k[rx]\n",
    "        \n",
    "        \n",
    "\n",
    "        zKk[:,:2] = (1-k/K)*y_T[:,:2]+(k/K)*y[:,:2]\n",
    "        zy = zKk[ry]\n",
    "        z = compose(zx[:int(Nx*(1-k/K))],zy[:int(Ny*k/K)],1-k/K)\n",
    "        mu.append(z)\n",
    "    mu.append(y)\n",
    "    \n",
    "    return mu, x_K,y_T\n",
    "\n",
    "def interpolate_linear(x,y,K):\n",
    "    Nx = len(x)\n",
    "    Ny = len(y)\n",
    "    x_T = Tx(x,y)\n",
    "    x_K = x_T\n",
    "    y_T = Ty(y,x)\n",
    "    mu = []\n",
    "    mu.append(x)\n",
    "    for k in range(1,K):\n",
    "        l = np.zeros((Nx,3))\n",
    "        l[:,:2] = (1-k/K)*x[:,:2]+(k/K)*x_T[:,:2]\n",
    "        l[:,2] = x[:,2]\n",
    "        \n",
    "        mu.append(l)\n",
    "    mu.append(y)\n",
    "    \n",
    "    return mu,x_K,y_T"
   ]
  },
  {
   "cell_type": "code",
   "execution_count": 34,
   "metadata": {
    "code_folding": [
     0
    ]
   },
   "outputs": [],
   "source": [
    "def rho_T(x,T,rho_x,delta = 5e3):\n",
    "    T0 = T[:,0]\n",
    "    T1 = T[:,1]\n",
    "    x0T0 = x[0]-T[:,0]\n",
    "    x1T1 = x[1]-T[:,1]\n",
    "    argexp = -delta*(x0T0**2+x1T1**2)\n",
    "    exp_v = np.exp(argexp)\n",
    "    return exp_v.dot(rho_x)"
   ]
  },
  {
   "cell_type": "code",
   "execution_count": 25,
   "metadata": {
    "code_folding": [
     0
    ]
   },
   "outputs": [],
   "source": [
    "# ###test interpolate_1\n",
    "# x_c = cutoff(x)\n",
    "# y_c = cutoff(y)\n",
    "# mu_n, x_K, y_0 = interpolate_1(x_c,y_c,80)\n",
    "\n",
    "# for k in range(len(mu_n)):\n",
    "#     if k%5 == 0:\n",
    "#         pixels_mu = np.array([rho_T(x[i,:2],mu_n[k][:,:2],mu_n[k][:,2]) for i in range(100**2)])\n",
    "#         imgT = np.reshape(pixels_mu,(100,100))\n",
    "#         plt.figure(k)\n",
    "#         plt.title('pic')\n",
    "#         plt.imshow(imgT,cmap=plt.cm.gray)\n",
    "#         plt.show('hold')\n",
    "# #         plt.scatter(mu_n[k][:,0],mu_n[k][:,1], color='red',marker = 'x');\n",
    "# #         plt.show('hold')"
   ]
  },
  {
   "cell_type": "code",
   "execution_count": 26,
   "metadata": {
    "code_folding": [
     0
    ]
   },
   "outputs": [],
   "source": [
    "###test interpolate_2\n",
    "# x_c = cutoff(x)\n",
    "# y_c = cutoff(y)\n",
    "# mu_n, x_K, y_0 = interpolate_2(x_c,y_c,80)\n",
    "\n",
    "# for k in range(len(mu_n)):\n",
    "#     if k%5 == 0:\n",
    "#         pixels_mu = np.array([rho_T(x[i,:2],mu_n[k][:,:2],mu_n[k][:,2]) for i in range(100**2)])\n",
    "#         imgT = np.reshape(pixels_mu,(100,100))\n",
    "#         plt.figure(k)\n",
    "#         plt.title('pic')\n",
    "#         plt.imshow(imgT,cmap=plt.cm.gray)\n",
    "#         plt.show('hold')\n",
    "# #         plt.scatter(mu_n[k][:,0],mu_n[k][:,1], color='red',marker = 'x');\n",
    "# #         plt.show('hold')"
   ]
  },
  {
   "cell_type": "markdown",
   "metadata": {},
   "source": [
    "# Local algorithm"
   ]
  },
  {
   "cell_type": "code",
   "execution_count": 27,
   "metadata": {
    "code_folding": [
     0
    ]
   },
   "outputs": [],
   "source": [
    "def Linear_LGH(x,y,a,b,returnGH=True,d=2):\n",
    "    da = len(a)\n",
    "    db = len(b)\n",
    "    Nx = len(x)\n",
    "    Ny = len(y)\n",
    "    \n",
    "    x0 = x[:,0]\n",
    "    x1 = x[:,1]\n",
    "    \n",
    "    T = np.zeros((Nx,2))\n",
    "    T[:,0] = a[0] + (1+a[2])*x0+a[3]*x1\n",
    "    T[:,1] = a[1] + a[3]*x0+(1+a[4])*x1\n",
    "    \n",
    "    T0 = T[:,0]\n",
    "    T1 = T[:,1]\n",
    "    y0 = y[:,0]\n",
    "    y1 = y[:,1]\n",
    "    gy = b[0]+ b[1]*y0+b[2]*y1+0.5*b[3]*y0**2+b[4]*y0*y1+0.5*b[5]*y1**2\n",
    "    gT =b[0]+ b[1]*T0+b[2]*T1+0.5*b[3]*T0**2+b[4]*T0*T1+0.5*b[5]*T1**2\n",
    "    \n",
    "    L = np.average(gT,weights=x[:,2]) - np.average(np.exp(gy),weights=y[:,2])\n",
    "    \n",
    "    if not returnGH:\n",
    "        return(L)\n",
    "    \n",
    "    else:\n",
    "        #first derivatives\n",
    "        gzT = np.zeros((Nx,2))\n",
    "        gzT[:,0] = b[1]+b[3]*T0+b[4]*T1\n",
    "        gzT[:,1] = b[2]+b[4]*T0+b[5]*T1\n",
    "        \n",
    "        daT = np.zeros((Nx,da,d))\n",
    "        daT[:,0,:] = np.array([1,0])\n",
    "        daT[:,1,:] = np.array([0,1])\n",
    "        daT[:,2,0] = x0\n",
    "        daT[:,3,0] = x1\n",
    "        daT[:,3,1] = x0\n",
    "        daT[:,4,1] = x1\n",
    "        \n",
    "        #gradient w.r.t. a\n",
    "        ngzT = np.einsum('i,ij->ij',x[:,2],gzT)\n",
    "        daL = np.einsum('ijk,ik->j',daT,ngzT)\n",
    "        \n",
    "        expgy = np.exp(gy)\n",
    "        nexpgy = np.exp(gy)*y[:,2]\n",
    "        dbgy = np.zeros((Ny,db))\n",
    "        dbgT = np.zeros((Nx,db))\n",
    "        dbgy[:,0] = np.ones(Ny)\n",
    "        dbgT[:,0] = np.ones(Nx)\n",
    "        dbgy[:,1] = y0\n",
    "        dbgT[:,1] = T0\n",
    "        dbgy[:,2] = y1\n",
    "        dbgT[:,2] = T1\n",
    "        dbgy[:,3] = 0.5*y0**2\n",
    "        dbgT[:,3] = 0.5*T0**2\n",
    "        dbgy[:,4] = y0*y1\n",
    "        dbgT[:,4] = T0*T1\n",
    "        dbgy[:,5] = 0.5*y1**2\n",
    "        dbgT[:,5] = 0.5*T1**2\n",
    "        \n",
    "        #gradient w.r.t. b\n",
    "        ndbgT = np.einsum('i,ij->ij',x[:,2],dbgT)\n",
    "        dbL = np.sum(ndbgT,axis=0) - np.einsum('ik,i->k',dbgy,nexpgy)\n",
    "        \n",
    "        #gradient\n",
    "        G = np.concatenate([daL,dbL],axis=0)\n",
    "        \n",
    "        #second derivatives\n",
    "        gzzT = np.zeros((Nx,d,d))\n",
    "        gzzT[:,0,0] = b[3]\n",
    "        gzzT[:,1,0] = b[4]\n",
    "        gzzT[:,0,1] = gzzT[:,1,0]\n",
    "        gzzT[:,1,1] = b[5]\n",
    "        \n",
    "        daaT = np.zeros((Nx,da,da,d))\n",
    "        \n",
    "        ngzzT = np.einsum('i,ijk->ijk',x[:,2],gzzT)\n",
    "        daaL = np.einsum('ijkl,il->jk',daaT,ngzT) + np.einsum('ijl,ilm,ikm->jk',daT,ngzzT,daT)\n",
    "        \n",
    "        dbzgT = np.zeros((Nx,db,d))\n",
    "        dbzgT[:,1,0]=np.ones(Nx)\n",
    "        dbzgT[:,2,1]=np.ones(Nx)\n",
    "        dbzgT[:,3,0]=T0\n",
    "        dbzgT[:,4,0]=T1\n",
    "        dbzgT[:,4,1]=T0\n",
    "        dbzgT[:,5,1]=T1\n",
    "        ndbzgT = np.einsum('i,ijk->ijk',x[:,2],dbzgT)\n",
    "        \n",
    "        # #Hessian w.r.t. ab\n",
    "        dabL = np.einsum('ikl,ijl->jk',ndbzgT,daT)\n",
    "        \n",
    "        dbbgy = np.zeros((Ny,db,db))\n",
    "        dbbgT = np.zeros((Nx,db,db))\n",
    "        dbgdbg = np.einsum('jn,jm->jnm',dbgy,dbgy)\n",
    "        ndbbgT = np.einsum('i,ijk->ijk',x[:,2],dbbgT)\n",
    "        \n",
    "        dbbL = np.sum(ndbbgT,axis=0) - np.einsum('jnm,j->nm',(dbbgy+dbgdbg),nexpgy)\n",
    "        \n",
    "        #Hessian\n",
    "        H = np.zeros((da+db,da+db))\n",
    "        H[:da,:da] = daaL\n",
    "        H[:da,da:] = dabL\n",
    "        H[da:,:da] = dabL.T\n",
    "        H[da:,da:] = dbbL\n",
    "        return(L,G,H)"
   ]
  },
  {
   "cell_type": "code",
   "execution_count": 28,
   "metadata": {
    "code_folding": [
     0
    ]
   },
   "outputs": [],
   "source": [
    "def linear_local_ot_debug(x, y, Niter=200, eps=1e-5, eta0=0.05, da=5, db=6, eta_min = 1e-4, eta_max=1e6, gamma = 5.2):\n",
    "    x_c = cutoff(x)\n",
    "    y_c = cutoff(y)\n",
    "    Nx = len(x)\n",
    "    Ny = len(y)\n",
    "\n",
    "    eta = eta0\n",
    "    etaC = 2.0\n",
    "\n",
    "    #setting up initial b, and minvar,D\n",
    "#     vx = np.cov(x[:,:2].T,aweights=x[:,2])\n",
    "#     vy = np.cov(y[:,:2].T,aweights=y[:,2])\n",
    "    vx = np.cov(x_c[:,:2].T)\n",
    "    vy = np.cov(y_c[:,:2].T)\n",
    "    mx = np.average(x[:,:2],axis=0,weights=x[:,2])\n",
    "    my = np.average(y[:,:2],axis=0,weights=y[:,2])\n",
    "\n",
    "    a0 = np.zeros(da)\n",
    "    #initial b\n",
    "    b0 = np.zeros(db)\n",
    "    B0 = 0.5*(la.inv(vy)-la.inv(vx))\n",
    "    b0[3] = B0[0,0]\n",
    "    b0[4] = B0[0,1]+B0[1,0]\n",
    "    b0[5] = B0[1,1]\n",
    "    B1 = la.solve(vx,mx) - la.solve(vy,my)\n",
    "    b0[1] = B1[0]\n",
    "    b0[2] = B1[1]\n",
    "    b0[0] = 0.5*(my.dot(la.solve(vy,my)) - mx.dot(la.solve(vx,mx))+np.log(la.det(vy)/la.det(vx)))\n",
    "\n",
    "    z = np.concatenate([a0,b0],axis=0)\n",
    "    J = np.eye(da+db)\n",
    "    J[da:,da:] *= -1\n",
    "\n",
    "    #   initialize gradients  \n",
    "    a = a0\n",
    "    b = b0\n",
    "    Ln,Gn,Hn = Linear_LGH(x,y,a,b)\n",
    "\n",
    "    x0 = x[:,0]\n",
    "    x1 = x[:,1]\n",
    "\n",
    "    T = np.zeros((Nx,3))\n",
    "    T[:,0] = z[0] + (1+z[2])*x0+z[3]*x1\n",
    "    T[:,1] = z[1] + z[3]*x0+(1+z[4])*x1\n",
    "    T[:,2] = x[:,2]\n",
    "    \n",
    "    ####debug####  \n",
    "    listG = []\n",
    "    listeta = []\n",
    "    Lnn = []\n",
    "    Lnnp1 = []\n",
    "    Lnp1n = []\n",
    "    #############\n",
    "    \n",
    "    for n in range(Niter):\n",
    "        zold = z\n",
    "        nz = z\n",
    "        Gn_norm = la.norm(Gn,2)\n",
    "        ###################\n",
    "        listG.append(la.norm(Gn,2))\n",
    "        listeta.append(eta)\n",
    "        ###################\n",
    "        \n",
    "        if Gn_norm < eps:\n",
    "            break\n",
    "        #   delta = (delta0-deltainf)*np.exp(-5*(n+1)/Niter) + deltainf\n",
    "        validity = False\n",
    "        eta = min(gamma*eta, eta_max)\n",
    "        iters = 0\n",
    "        while(not validity):\n",
    "            iters += 1\n",
    "            eta = eta/2.0\n",
    "            if eta < eta_min:\n",
    "                break\n",
    "            dz = -la.solve((1.0/eta)*J+Hn,Gn)\n",
    "            nz = zold + dz\n",
    "            Ln1 = Linear_LGH(x,y,nz[:da],nz[da:],returnGH=False)\n",
    "            Lan1 = Linear_LGH(x,y,nz[:da],zold[da:],returnGH=False)\n",
    "            Lbn1 = Linear_LGH(x,y,zold[:da],nz[da:],returnGH=False)\n",
    "            v_0 = (Ln1<=Lbn1+1e-16) and (Lan1<=Ln1+1e-16)\n",
    "            validity = v_0 or (iters>=10)\n",
    "        z = z + dz\n",
    "        Lnn.append(Ln1)\n",
    "        Lnnp1.append(Lbn1)\n",
    "        Lnp1n.append(Lan1)\n",
    "        Ln,Gn,Hn = Linear_LGH(x,y,z[:da],z[da:])\n",
    "    a,b = z[:da],z[da:]\n",
    "    T = np.zeros((Nx,3))\n",
    "    T[:,0] = z[0] + (1+z[2])*x0+z[3]*x1\n",
    "    T[:,1] = z[1] + z[3]*x0+(1+z[4])*x1\n",
    "    T[:,2] = x[:,2]\n",
    "    \n",
    "    return T,a,b,[listG,listeta,Lnn,Lnnp1,Lnp1n]"
   ]
  },
  {
   "cell_type": "markdown",
   "metadata": {},
   "source": [
    "## Test local optimal transport of two similar image with small differences"
   ]
  },
  {
   "cell_type": "code",
   "execution_count": 29,
   "metadata": {},
   "outputs": [],
   "source": [
    "T, a, b, Ls= linear_local_ot_debug(x,y,Niter=400,eps=1e-6,eta0=0.05,gamma = 2.5)"
   ]
  },
  {
   "cell_type": "code",
   "execution_count": 37,
   "metadata": {},
   "outputs": [
    {
     "data": {
      "text/plain": [
       "<matplotlib.legend.Legend at 0x1c193f8470>"
      ]
     },
     "execution_count": 37,
     "metadata": {},
     "output_type": "execute_result"
    },
    {
     "data": {
      "image/png": "[encoded data removed]",
      "text/plain": [
       "<Figure size 1440x1080 with 2 Axes>"
      ]
     },
     "metadata": {
      "needs_background": "light"
     },
     "output_type": "display_data"
    },
    {
     "data": {
      "image/png": "[encoded data removed]",
      "text/plain": [
       "<Figure size 1080x576 with 1 Axes>"
      ]
     },
     "metadata": {
      "needs_background": "light"
     },
     "output_type": "display_data"
    }
   ],
   "source": [
    "from decimal import Decimal\n",
    "from matplotlib import rc\n",
    "#####DEBUG#####\n",
    "#find minimal Gn, Dn\n",
    "minG = np.min(Ls[0])\n",
    "iminG = np.argmin(Ls[0])\n",
    "\n",
    "fig = plt.figure(figsize=(20,15))\n",
    "\n",
    "ax1 = fig.add_subplot(4, 1, 1)\n",
    "ax1.plot(Ls[0])\n",
    "ax1.scatter(iminG,minG, c = 'r', s = 100)\n",
    "decG = '%.2E' % Decimal(minG)\n",
    "ax1.annotate(decG, (iminG,minG+0.1), fontsize=20)\n",
    "ax1.set_title('|Gn|')\n",
    "# ax1.axvline(iminD, c = 'black', ls = 'dotted')\n",
    "\n",
    "ax2 = fig.add_subplot(4, 1, 2)\n",
    "ax2.semilogy(Ls[1])\n",
    "# ax4.axvline(iminD, c = 'black', ls = 'dotted')\n",
    "ax2.set_title('eta');\n",
    "###############\n",
    "rc('font',**{'family':'sans-serif','sans-serif':['Helvetica']})\n",
    "## for Palatino and other serif fonts use:\n",
    "#rc('font',**{'family':'serif','serif':['Palatino']})\n",
    "rc('text', usetex=True)\n",
    "plt.figure(figsize=(15,8))\n",
    "plt.rc('text', usetex=True)\n",
    "plt.rc('font', family='serif')\n",
    "iterations = range(len(Ls[0])-1)\n",
    "plt.plot(iterations,Ls[2], label=r'$L^{n+1,n+1}$', c='C1')\n",
    "plt.plot(iterations,Ls[3], label=r'$L^{n+1,n}$', c='C0', linestyle='--')\n",
    "plt.plot(iterations,Ls[4], label=r'$L^{n,n+1}$',c='C2', linestyle='--')\n",
    "plt.legend()\n",
    "# plt.ylim(ymin=-1.00001, ymax=-0.99999)"
   ]
  },
  {
   "cell_type": "code",
   "execution_count": 35,
   "metadata": {
    "scrolled": true
   },
   "outputs": [
    {
     "data": {
      "image/png": "[encoded data removed]",
      "text/plain": [
       "<Figure size 432x288 with 1 Axes>"
      ]
     },
     "metadata": {
      "needs_background": "light"
     },
     "output_type": "display_data"
    },
    {
     "data": {
      "image/png": "[encoded data removed]",
      "text/plain": [
       "<Figure size 432x288 with 1 Axes>"
      ]
     },
     "metadata": {
      "needs_background": "light"
     },
     "output_type": "display_data"
    },
    {
     "data": {
      "image/png": "[encoded data removed]",
      "text/plain": [
       "<Figure size 432x288 with 1 Axes>"
      ]
     },
     "metadata": {
      "needs_background": "light"
     },
     "output_type": "display_data"
    }
   ],
   "source": [
    "pixels_T = np.array([rho_T(x[i,:2],T[:,:2],T[:,2]) for i in range(len(x))])\n",
    "image_count = 0\n",
    "faceX = np.reshape(pixels_1,(60,60))\n",
    "image_count+=1\n",
    "plt.figure(image_count)\n",
    "plt.title('original pixel 60x60')\n",
    "plt.imshow(faceX,cmap=plt.cm.gray)\n",
    "plt.show('hold')\n",
    "\n",
    "faceY = np.reshape(pixels_2,(61,62))\n",
    "image_count+=1\n",
    "plt.figure(image_count)\n",
    "plt.title('target pixel 63x64')\n",
    "plt.imshow(faceY,cmap=plt.cm.gray)\n",
    "plt.show('hold')\n",
    "\n",
    "faceT = np.reshape(pixels_T,(60,60))\n",
    "image_count+=1\n",
    "plt.figure(image_count)\n",
    "plt.title('transfer pixel 60x60')\n",
    "plt.imshow(faceT,cmap=plt.cm.gray)\n",
    "plt.show('hold')"
   ]
  },
  {
   "cell_type": "markdown",
   "metadata": {},
   "source": [
    "# Global algorithm"
   ]
  },
  {
   "cell_type": "code",
   "execution_count": 22,
   "metadata": {
    "code_folding": [
     0
    ]
   },
   "outputs": [],
   "source": [
    "def linear_local_ot(x, y, Niter=200, eps=1e-5, eta0=0.05, da=5, db=6, eta_min = 1e-4, eta_max=1e6, gamma = 5.2):\n",
    "    x_c = cutoff(x)\n",
    "    y_c = cutoff(y)\n",
    "    Nx = len(x)\n",
    "    Ny = len(y)\n",
    "\n",
    "    eta = eta0\n",
    "    etaC = 2.0\n",
    "\n",
    "    #setting up initial b, and minvar,D\n",
    "#     vx = np.cov(x[:,:2].T,aweights=x[:,2])\n",
    "#     vy = np.cov(y[:,:2].T,aweights=y[:,2])\n",
    "    vx = np.cov(x_c[:,:2].T)\n",
    "    vy = np.cov(y_c[:,:2].T)\n",
    "    mx = np.average(x[:,:2],axis=0,weights=x[:,2])\n",
    "    my = np.average(y[:,:2],axis=0,weights=y[:,2])\n",
    "\n",
    "    a0 = np.zeros(da)\n",
    "    #initial b\n",
    "    b0 = np.zeros(db)\n",
    "    B0 = 0.5*(la.inv(vy)-la.inv(vx))\n",
    "    b0[3] = B0[0,0]\n",
    "    b0[4] = B0[0,1]+B0[1,0]\n",
    "    b0[5] = B0[1,1]\n",
    "    B1 = la.solve(vx,mx) - la.solve(vy,my)\n",
    "    b0[1] = B1[0]\n",
    "    b0[2] = B1[1]\n",
    "    b0[0] = 0.5*(my.dot(la.solve(vy,my)) - mx.dot(la.solve(vx,mx))+np.log(la.det(vy)/la.det(vx)))\n",
    "\n",
    "    z = np.concatenate([a0,b0],axis=0)\n",
    "    J = np.eye(da+db)\n",
    "    J[da:,da:] *= -1\n",
    "\n",
    "    #   initialize gradients  \n",
    "    a = a0\n",
    "    b = b0\n",
    "    Ln,Gn,Hn = Linear_LGH(x,y,a,b)\n",
    "\n",
    "    x0 = x[:,0]\n",
    "    x1 = x[:,1]\n",
    "\n",
    "    T = np.zeros((Nx,3))\n",
    "    T[:,0] = z[0] + (1+z[2])*x0+z[3]*x1\n",
    "    T[:,1] = z[1] + z[3]*x0+(1+z[4])*x1\n",
    "    T[:,2] = x[:,2]\n",
    "    \n",
    "#     ####debug####  \n",
    "#     listG = []\n",
    "#     listeta = []\n",
    "#     Lnn = []\n",
    "#     Lnnp1 = []\n",
    "#     Lnp1n = []\n",
    "#     #############\n",
    "    \n",
    "    for n in range(Niter):\n",
    "        zold = z\n",
    "        nz = z\n",
    "        Gn_norm = la.norm(Gn,2)\n",
    "#         ###################\n",
    "#         listG.append(la.norm(Gn,2))\n",
    "#         listeta.append(eta)\n",
    "#         ###################\n",
    "        \n",
    "        if Gn_norm < eps:\n",
    "            break\n",
    "        #   delta = (delta0-deltainf)*np.exp(-5*(n+1)/Niter) + deltainf\n",
    "        validity = False\n",
    "        eta = min(gamma*eta, eta_max)\n",
    "        iters = 0\n",
    "        while(not validity):\n",
    "            iters += 1\n",
    "            eta = eta/2.0\n",
    "            if eta < eta_min:\n",
    "                break\n",
    "            dz = -la.solve((1.0/eta)*J+Hn,Gn)\n",
    "            nz = zold + dz\n",
    "            Ln1 = Linear_LGH(x,y,nz[:da],nz[da:],returnGH=False)\n",
    "            Lan1 = Linear_LGH(x,y,nz[:da],zold[da:],returnGH=False)\n",
    "            Lbn1 = Linear_LGH(x,y,zold[:da],nz[da:],returnGH=False)\n",
    "            v_0 = (Ln1<=Lbn1+1e-16) and (Lan1<=Ln1+1e-16)\n",
    "            validity = v_0 or (iters>=10)\n",
    "        z = z + dz\n",
    "#         Lnn.append(Ln1)\n",
    "#         Lnnp1.append(Lbn1)\n",
    "#         Lnp1n.append(Lan1)\n",
    "        Ln,Gn,Hn = Linear_LGH(x,y,z[:da],z[da:])\n",
    "    a,b = z[:da],z[da:]\n",
    "    T = np.zeros((Nx,3))\n",
    "    T[:,0] = z[0] + (1+z[2])*x0+z[3]*x1\n",
    "    T[:,1] = z[1] + z[3]*x0+(1+z[4])*x1\n",
    "    T[:,2] = x[:,2]\n",
    "    \n",
    "    return T,a,b"
   ]
  },
  {
   "cell_type": "code",
   "execution_count": 70,
   "metadata": {
    "code_folding": [
     0
    ]
   },
   "outputs": [],
   "source": [
    "def global_ot(x,y,K=40,Maxiter=100,tol=1e-2):\n",
    "    x_c = cutoff(x)\n",
    "    y_c = cutoff(y)\n",
    "    Nx = len(x)\n",
    "    Ny = len(y) \n",
    "    a_maps = K*[0]\n",
    "    b_maps = K*[0]\n",
    "    \n",
    "    mu, x_K, y_0 = interpolate_2(x_c,y_c,K)\n",
    "    for niter in range(Maxiter):\n",
    "        print(niter/Maxiter * 100)#debug\n",
    "        x_Kold=x_K\n",
    "        #solve local OT's\n",
    "        z = x_c\n",
    "        for k in range(1,K+1):\n",
    "\n",
    "\n",
    "            print('Step k = '+str(k))\n",
    "            pixels_z = np.array([rho_T(x[i,:2],z[:,:2],z[:,2]) for i in range(100**2)])\n",
    "            imgz = np.reshape(pixels_z,(100,100))\n",
    "            plt.figure(3*(k-1))\n",
    "            plt.title('Before local OT z')\n",
    "            plt.imshow(imgz,cmap=plt.cm.gray)\n",
    "            plt.show('hold')\n",
    "\n",
    "            pixels_mu = np.array([rho_T(x[i,:2],mu[k][:,:2],mu[k][:,2]) for i in range(100**2)])\n",
    "            imgmu = np.reshape(pixels_mu,(100,100))\n",
    "            plt.figure(3*(k-1)+1)\n",
    "            plt.title('Before local OT mu')\n",
    "            plt.imshow(imgmu,cmap=plt.cm.gray)\n",
    "            plt.show('hold')\n",
    "\n",
    "\n",
    "            #solve local transport problem\n",
    "            Tloc,a,b = linear_local_ot(z,mu[k],Niter=200,gamma=2.5)\n",
    "\n",
    "\n",
    "            pixels_T = np.array([rho_T(x[i,:2],Tloc[:,:2],Tloc[:,2]) for i in range(100**2)])\n",
    "            imgT = np.reshape(pixels_T,(100,100))\n",
    "            plt.figure(3*(k-1)+2)\n",
    "            plt.title('After local OT z')\n",
    "            plt.imshow(imgT,cmap=plt.cm.gray)\n",
    "            plt.show('hold')\n",
    "\n",
    "            a_maps[k-1] = a\n",
    "            b_maps[k-1] = b\n",
    "            z = Tloc\n",
    "        x_K = z\n",
    "    \n",
    "        if (1/Nx)*la.norm(x_K[:,:2]-x_Kold[:,:2],2)<tol:\n",
    "            break\n",
    "        #update intermediate distributions\n",
    "        for k in range(1,K):\n",
    "            mu[k] = np.zeros((len(x_c),3))\n",
    "            mu[k][:,:2] = (1-k/K)*x_c[:,:2]+(k/K)*x_K[:,:2]\n",
    "            mu[k][:,2] = x_c[:,2]\n",
    "\n",
    "    print('done')\n",
    "    return x_K,a_maps,b_maps"
   ]
  },
  {
   "cell_type": "code",
   "execution_count": 6,
   "metadata": {},
   "outputs": [],
   "source": [
    "x_K,a_maps,b_maps = global_ot(x,y,K=80)"
   ]
  }
 ],
 "metadata": {
  "kernelspec": {
   "display_name": "Python 3",
   "language": "python",
   "name": "python3"
  },
  "language_info": {
   "codemirror_mode": {
    "name": "ipython",
    "version": 3
   },
   "file_extension": ".py",
   "mimetype": "text/x-python",
   "name": "python",
   "nbconvert_exporter": "python",
   "pygments_lexer": "ipython3",
   "version": "3.7.3"
  }
 },
 "nbformat": 4,
 "nbformat_minor": 2
}
